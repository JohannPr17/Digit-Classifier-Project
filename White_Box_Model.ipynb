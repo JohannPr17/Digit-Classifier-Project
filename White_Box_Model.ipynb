{
  "nbformat": 4,
  "nbformat_minor": 0,
  "metadata": {
    "colab": {
      "provenance": []
    },
    "kernelspec": {
      "name": "python3",
      "display_name": "Python 3"
    },
    "language_info": {
      "name": "python"
    }
  },
  "cells": [
    {
      "cell_type": "code",
      "execution_count": 45,
      "metadata": {
        "id": "mvx88ujF5Owj"
      },
      "outputs": [],
      "source": [
        "from torchvision import datasets\n",
        "from torchvision.transforms import ToTensor"
      ]
    },
    {
      "cell_type": "code",
      "source": [
        "train_data = datasets.MNIST(\n",
        "    root='data',\n",
        "    train=True,\n",
        "    transform=ToTensor(),\n",
        "    download=True\n",
        ")\n",
        "\n",
        "test_data = datasets.MNIST(\n",
        "    root='data',\n",
        "    train=False,\n",
        "    transform=ToTensor(),\n",
        "    download=True\n",
        ")"
      ],
      "metadata": {
        "id": "ZjikAPmP6brJ"
      },
      "execution_count": 46,
      "outputs": []
    },
    {
      "cell_type": "code",
      "source": [
        "train_data"
      ],
      "metadata": {
        "colab": {
          "base_uri": "https://localhost:8080/"
        },
        "id": "1PLue-AC9mMz",
        "outputId": "b2a4d9a5-e234-4ea7-985f-f58099585f5d"
      },
      "execution_count": 47,
      "outputs": [
        {
          "output_type": "execute_result",
          "data": {
            "text/plain": [
              "Dataset MNIST\n",
              "    Number of datapoints: 60000\n",
              "    Root location: data\n",
              "    Split: Train\n",
              "    StandardTransform\n",
              "Transform: ToTensor()"
            ]
          },
          "metadata": {},
          "execution_count": 47
        }
      ]
    },
    {
      "cell_type": "code",
      "source": [
        "test_data"
      ],
      "metadata": {
        "colab": {
          "base_uri": "https://localhost:8080/"
        },
        "id": "vQxzrax0_Jx0",
        "outputId": "cdc61cae-d231-4a53-f2e4-e46e1c387c3b"
      },
      "execution_count": 48,
      "outputs": [
        {
          "output_type": "execute_result",
          "data": {
            "text/plain": [
              "Dataset MNIST\n",
              "    Number of datapoints: 10000\n",
              "    Root location: data\n",
              "    Split: Test\n",
              "    StandardTransform\n",
              "Transform: ToTensor()"
            ]
          },
          "metadata": {},
          "execution_count": 48
        }
      ]
    },
    {
      "cell_type": "code",
      "source": [
        "train_data.data.shape"
      ],
      "metadata": {
        "colab": {
          "base_uri": "https://localhost:8080/"
        },
        "id": "Z7467cOf_MHm",
        "outputId": "aeeb908c-ba55-4afc-9984-aed6af5a62b3"
      },
      "execution_count": 49,
      "outputs": [
        {
          "output_type": "execute_result",
          "data": {
            "text/plain": [
              "torch.Size([60000, 28, 28])"
            ]
          },
          "metadata": {},
          "execution_count": 49
        }
      ]
    },
    {
      "cell_type": "code",
      "source": [
        "train_data.targets.size()"
      ],
      "metadata": {
        "colab": {
          "base_uri": "https://localhost:8080/"
        },
        "id": "ZNePS8Sq_OUa",
        "outputId": "5379ac51-5046-4c6a-e815-4ccf021054e3"
      },
      "execution_count": 50,
      "outputs": [
        {
          "output_type": "execute_result",
          "data": {
            "text/plain": [
              "torch.Size([60000])"
            ]
          },
          "metadata": {},
          "execution_count": 50
        }
      ]
    },
    {
      "cell_type": "code",
      "source": [
        "train_data.targets"
      ],
      "metadata": {
        "colab": {
          "base_uri": "https://localhost:8080/"
        },
        "id": "sBcP1fLh_QhF",
        "outputId": "51b1ce94-7db3-4ba2-d42e-42b81242dcb9"
      },
      "execution_count": 51,
      "outputs": [
        {
          "output_type": "execute_result",
          "data": {
            "text/plain": [
              "tensor([5, 0, 4,  ..., 5, 6, 8])"
            ]
          },
          "metadata": {},
          "execution_count": 51
        }
      ]
    },
    {
      "cell_type": "code",
      "source": [
        "from torch.utils.data import DataLoader\n",
        "\n",
        "loaders = {\n",
        "    'train': DataLoader(train_data, batch_size=100, shuffle=True, num_workers = 1),\n",
        "    'test': DataLoader(test_data, batch_size=100, shuffle=True, num_workers = 1)\n",
        "}"
      ],
      "metadata": {
        "id": "I_5f3hMW_ShR"
      },
      "execution_count": 33,
      "outputs": []
    },
    {
      "cell_type": "code",
      "source": [
        "loaders"
      ],
      "metadata": {
        "colab": {
          "base_uri": "https://localhost:8080/"
        },
        "id": "UABVpSdB_bua",
        "outputId": "9b7dec64-1d0d-4bfe-cbfe-e1813b64c67f"
      },
      "execution_count": 52,
      "outputs": [
        {
          "output_type": "execute_result",
          "data": {
            "text/plain": [
              "{'train': <torch.utils.data.dataloader.DataLoader at 0x7f77607e5660>,\n",
              " 'test': <torch.utils.data.dataloader.DataLoader at 0x7f77607e6380>}"
            ]
          },
          "metadata": {},
          "execution_count": 52
        }
      ]
    },
    {
      "cell_type": "code",
      "source": [
        "import torch.nn as nn\n",
        "import torch.nn.functional as F\n",
        "import torch.optim as optim\n",
        "\n",
        "\n",
        "class CNN(nn.Module):\n",
        "  def __init__(self):\n",
        "    super(CNN, self).__init__()\n",
        "\n",
        "    self.conv1 = nn.Conv2d(1,10, kernel_size = 5)\n",
        "    self.conv2 = nn.Conv2d(10, 20, kernel_size = 5)\n",
        "    self.conv2_drop = nn.Dropout2d()\n",
        "    self.fc1 = nn.Linear(320, 50)\n",
        "    self.fc2 = nn.Linear(50, 10)\n",
        "\n",
        "  def forward(self, x):\n",
        "    x = F.relu(F.max_pool2d(self.conv1(x), 2))\n",
        "    x = F.relu(F.max_pool2d(self.conv2_drop(self.conv2(x)), 2))\n",
        "    x = x.view(-1, 320)\n",
        "    x = F.dropout(x, training = self.training)\n",
        "    x = F.relu(self.fc1(x))\n",
        "    x = self.fc2(x)\n",
        "\n",
        "    return F.softmax(x)\n",
        "\n"
      ],
      "metadata": {
        "id": "mZVbDHa__dqM"
      },
      "execution_count": 56,
      "outputs": []
    },
    {
      "cell_type": "code",
      "source": [
        "import torch\n",
        "\n",
        "device = torch.device('cuda' if torch.cuda.is_available() else 'cpu')\n",
        "model = CNN().to(device)\n",
        "optimizer = optim.Adam(model.parameters(), lr = 0.001)\n",
        "\n",
        "loss_fn = nn.CrossEntropyLoss()\n",
        "\n",
        "def train(epoch):\n",
        "  model.train()\n",
        "  for batch_idx, (data, target) in enumerate(loaders['train']):\n",
        "    data, target = data.to(device), target.to(device)\n",
        "    optimizer.zero_grad()\n",
        "    output = model(data)\n",
        "    loss = loss_fn(output, target)\n",
        "    loss.backward()\n",
        "    optimizer.step()\n",
        "    if batch_idx % 20 == 0:\n",
        "      print(f'Train Epoch: {epoch} [{batch_idx * len(data)}/{len(loaders[\"train\"].dataset)} ({100. * batch_idx / len(loaders[\"train\"]):.0f}%)]\\t: {loss.item():.6f}')\n",
        "\n",
        "def test():\n",
        "  model.eval()\n",
        "  test_loss = 0\n",
        "  correct = 0\n",
        "\n",
        "  with torch.no_grad():\n",
        "    for data, target in loaders['test']:\n",
        "      data, target = data.to(device), target.to(device)\n",
        "      output = model(data)\n",
        "      test_loss += loss_fn(output, target).item()\n",
        "      pred = output.data.max(1, keepdim=True)[1]\n",
        "      correct += pred.eq(target.view_as(pred)).sum().item()\n",
        "\n",
        "  test_loss /= len(loaders['test'].dataset)\n",
        "  print(f'\\nTest set: Average Loss: {test_loss:.4f}, Accuracy {correct} / {len(loaders[\"test\"].dataset)} ({100. * correct / len(loaders[\"test\"].dataset):.0f}%\\n)')\n",
        "\n",
        "\n"
      ],
      "metadata": {
        "id": "2R9ToySoEIY4"
      },
      "execution_count": 65,
      "outputs": []
    },
    {
      "cell_type": "code",
      "source": [
        "for epoch in range(1,11):\n",
        "  train(epoch)\n",
        "  test()"
      ],
      "metadata": {
        "colab": {
          "base_uri": "https://localhost:8080/"
        },
        "id": "ZLeY4DHYm-TU",
        "outputId": "e2a3f1d9-8b53-4cf8-df4f-945edf81cc02"
      },
      "execution_count": 66,
      "outputs": [
        {
          "output_type": "stream",
          "name": "stderr",
          "text": [
            "<ipython-input-56-c1a8a0587757>:24: UserWarning: Implicit dimension choice for softmax has been deprecated. Change the call to include dim=X as an argument.\n",
            "  return F.softmax(x)\n"
          ]
        },
        {
          "output_type": "stream",
          "name": "stdout",
          "text": [
            "Train Epoch: 1 [0/60000 (0%)]\t: 2.303828\n",
            "Train Epoch: 1 [2000/60000 (3%)]\t: 2.291062\n",
            "Train Epoch: 1 [4000/60000 (7%)]\t: 2.165785\n",
            "Train Epoch: 1 [6000/60000 (10%)]\t: 1.928823\n",
            "Train Epoch: 1 [8000/60000 (13%)]\t: 1.812193\n",
            "Train Epoch: 1 [10000/60000 (17%)]\t: 1.846479\n",
            "Train Epoch: 1 [12000/60000 (20%)]\t: 1.764896\n",
            "Train Epoch: 1 [14000/60000 (23%)]\t: 1.758268\n",
            "Train Epoch: 1 [16000/60000 (27%)]\t: 1.742233\n",
            "Train Epoch: 1 [18000/60000 (30%)]\t: 1.797929\n",
            "Train Epoch: 1 [20000/60000 (33%)]\t: 1.703993\n",
            "Train Epoch: 1 [22000/60000 (37%)]\t: 1.697145\n",
            "Train Epoch: 1 [24000/60000 (40%)]\t: 1.737003\n",
            "Train Epoch: 1 [26000/60000 (43%)]\t: 1.721033\n",
            "Train Epoch: 1 [28000/60000 (47%)]\t: 1.678822\n",
            "Train Epoch: 1 [30000/60000 (50%)]\t: 1.685756\n",
            "Train Epoch: 1 [32000/60000 (53%)]\t: 1.731870\n",
            "Train Epoch: 1 [34000/60000 (57%)]\t: 1.662343\n",
            "Train Epoch: 1 [36000/60000 (60%)]\t: 1.744050\n",
            "Train Epoch: 1 [38000/60000 (63%)]\t: 1.673689\n",
            "Train Epoch: 1 [40000/60000 (67%)]\t: 1.694944\n",
            "Train Epoch: 1 [42000/60000 (70%)]\t: 1.718671\n",
            "Train Epoch: 1 [44000/60000 (73%)]\t: 1.687624\n",
            "Train Epoch: 1 [46000/60000 (77%)]\t: 1.671174\n",
            "Train Epoch: 1 [48000/60000 (80%)]\t: 1.729934\n",
            "Train Epoch: 1 [50000/60000 (83%)]\t: 1.685690\n",
            "Train Epoch: 1 [52000/60000 (87%)]\t: 1.655578\n",
            "Train Epoch: 1 [54000/60000 (90%)]\t: 1.642308\n",
            "Train Epoch: 1 [56000/60000 (93%)]\t: 1.702164\n",
            "Train Epoch: 1 [58000/60000 (97%)]\t: 1.636935\n",
            "\n",
            "Test set: Average Loss: 0.0160, Accuracy 8613 / 10000 (86%\n",
            ")\n",
            "Train Epoch: 2 [0/60000 (0%)]\t: 1.588047\n",
            "Train Epoch: 2 [2000/60000 (3%)]\t: 1.617220\n",
            "Train Epoch: 2 [4000/60000 (7%)]\t: 1.655978\n",
            "Train Epoch: 2 [6000/60000 (10%)]\t: 1.632182\n",
            "Train Epoch: 2 [8000/60000 (13%)]\t: 1.671214\n",
            "Train Epoch: 2 [10000/60000 (17%)]\t: 1.604639\n",
            "Train Epoch: 2 [12000/60000 (20%)]\t: 1.648932\n",
            "Train Epoch: 2 [14000/60000 (23%)]\t: 1.634404\n",
            "Train Epoch: 2 [16000/60000 (27%)]\t: 1.661771\n",
            "Train Epoch: 2 [18000/60000 (30%)]\t: 1.671236\n",
            "Train Epoch: 2 [20000/60000 (33%)]\t: 1.629806\n",
            "Train Epoch: 2 [22000/60000 (37%)]\t: 1.637799\n",
            "Train Epoch: 2 [24000/60000 (40%)]\t: 1.642480\n",
            "Train Epoch: 2 [26000/60000 (43%)]\t: 1.649354\n",
            "Train Epoch: 2 [28000/60000 (47%)]\t: 1.641135\n",
            "Train Epoch: 2 [30000/60000 (50%)]\t: 1.662052\n",
            "Train Epoch: 2 [32000/60000 (53%)]\t: 1.613794\n",
            "Train Epoch: 2 [34000/60000 (57%)]\t: 1.620655\n",
            "Train Epoch: 2 [36000/60000 (60%)]\t: 1.659770\n",
            "Train Epoch: 2 [38000/60000 (63%)]\t: 1.685993\n",
            "Train Epoch: 2 [40000/60000 (67%)]\t: 1.718489\n",
            "Train Epoch: 2 [42000/60000 (70%)]\t: 1.658489\n",
            "Train Epoch: 2 [44000/60000 (73%)]\t: 1.679352\n",
            "Train Epoch: 2 [46000/60000 (77%)]\t: 1.663785\n",
            "Train Epoch: 2 [48000/60000 (80%)]\t: 1.615239\n",
            "Train Epoch: 2 [50000/60000 (83%)]\t: 1.645330\n",
            "Train Epoch: 2 [52000/60000 (87%)]\t: 1.630624\n",
            "Train Epoch: 2 [54000/60000 (90%)]\t: 1.596609\n",
            "Train Epoch: 2 [56000/60000 (93%)]\t: 1.670137\n",
            "Train Epoch: 2 [58000/60000 (97%)]\t: 1.703300\n",
            "\n",
            "Test set: Average Loss: 0.0159, Accuracy 8734 / 10000 (87%\n",
            ")\n",
            "Train Epoch: 3 [0/60000 (0%)]\t: 1.645196\n",
            "Train Epoch: 3 [2000/60000 (3%)]\t: 1.634818\n",
            "Train Epoch: 3 [4000/60000 (7%)]\t: 1.666844\n",
            "Train Epoch: 3 [6000/60000 (10%)]\t: 1.570312\n",
            "Train Epoch: 3 [8000/60000 (13%)]\t: 1.590727\n",
            "Train Epoch: 3 [10000/60000 (17%)]\t: 1.631188\n",
            "Train Epoch: 3 [12000/60000 (20%)]\t: 1.637304\n",
            "Train Epoch: 3 [14000/60000 (23%)]\t: 1.606905\n",
            "Train Epoch: 3 [16000/60000 (27%)]\t: 1.630640\n",
            "Train Epoch: 3 [18000/60000 (30%)]\t: 1.673983\n",
            "Train Epoch: 3 [20000/60000 (33%)]\t: 1.602924\n",
            "Train Epoch: 3 [22000/60000 (37%)]\t: 1.641870\n",
            "Train Epoch: 3 [24000/60000 (40%)]\t: 1.577433\n",
            "Train Epoch: 3 [26000/60000 (43%)]\t: 1.625878\n",
            "Train Epoch: 3 [28000/60000 (47%)]\t: 1.642309\n",
            "Train Epoch: 3 [30000/60000 (50%)]\t: 1.583303\n",
            "Train Epoch: 3 [32000/60000 (53%)]\t: 1.659986\n",
            "Train Epoch: 3 [34000/60000 (57%)]\t: 1.634275\n",
            "Train Epoch: 3 [36000/60000 (60%)]\t: 1.638893\n",
            "Train Epoch: 3 [38000/60000 (63%)]\t: 1.669461\n",
            "Train Epoch: 3 [40000/60000 (67%)]\t: 1.594571\n",
            "Train Epoch: 3 [42000/60000 (70%)]\t: 1.679919\n",
            "Train Epoch: 3 [44000/60000 (73%)]\t: 1.625840\n",
            "Train Epoch: 3 [46000/60000 (77%)]\t: 1.698271\n",
            "Train Epoch: 3 [48000/60000 (80%)]\t: 1.648593\n",
            "Train Epoch: 3 [50000/60000 (83%)]\t: 1.666418\n",
            "Train Epoch: 3 [52000/60000 (87%)]\t: 1.630432\n",
            "Train Epoch: 3 [54000/60000 (90%)]\t: 1.638375\n",
            "Train Epoch: 3 [56000/60000 (93%)]\t: 1.619807\n",
            "Train Epoch: 3 [58000/60000 (97%)]\t: 1.655901\n",
            "\n",
            "Test set: Average Loss: 0.0158, Accuracy 8771 / 10000 (88%\n",
            ")\n",
            "Train Epoch: 4 [0/60000 (0%)]\t: 1.578691\n",
            "Train Epoch: 4 [2000/60000 (3%)]\t: 1.680501\n",
            "Train Epoch: 4 [4000/60000 (7%)]\t: 1.595884\n",
            "Train Epoch: 4 [6000/60000 (10%)]\t: 1.666623\n",
            "Train Epoch: 4 [8000/60000 (13%)]\t: 1.610571\n",
            "Train Epoch: 4 [10000/60000 (17%)]\t: 1.655037\n",
            "Train Epoch: 4 [12000/60000 (20%)]\t: 1.609226\n",
            "Train Epoch: 4 [14000/60000 (23%)]\t: 1.626929\n",
            "Train Epoch: 4 [16000/60000 (27%)]\t: 1.623510\n",
            "Train Epoch: 4 [18000/60000 (30%)]\t: 1.598685\n",
            "Train Epoch: 4 [20000/60000 (33%)]\t: 1.658410\n",
            "Train Epoch: 4 [22000/60000 (37%)]\t: 1.593992\n",
            "Train Epoch: 4 [24000/60000 (40%)]\t: 1.645085\n",
            "Train Epoch: 4 [26000/60000 (43%)]\t: 1.555928\n",
            "Train Epoch: 4 [28000/60000 (47%)]\t: 1.591796\n",
            "Train Epoch: 4 [30000/60000 (50%)]\t: 1.608872\n",
            "Train Epoch: 4 [32000/60000 (53%)]\t: 1.631638\n",
            "Train Epoch: 4 [34000/60000 (57%)]\t: 1.667635\n",
            "Train Epoch: 4 [36000/60000 (60%)]\t: 1.620963\n",
            "Train Epoch: 4 [38000/60000 (63%)]\t: 1.540844\n",
            "Train Epoch: 4 [40000/60000 (67%)]\t: 1.576605\n",
            "Train Epoch: 4 [42000/60000 (70%)]\t: 1.623190\n",
            "Train Epoch: 4 [44000/60000 (73%)]\t: 1.656833\n",
            "Train Epoch: 4 [46000/60000 (77%)]\t: 1.611529\n",
            "Train Epoch: 4 [48000/60000 (80%)]\t: 1.667107\n",
            "Train Epoch: 4 [50000/60000 (83%)]\t: 1.586639\n",
            "Train Epoch: 4 [52000/60000 (87%)]\t: 1.675403\n",
            "Train Epoch: 4 [54000/60000 (90%)]\t: 1.580172\n",
            "Train Epoch: 4 [56000/60000 (93%)]\t: 1.664914\n",
            "Train Epoch: 4 [58000/60000 (97%)]\t: 1.611446\n",
            "\n",
            "Test set: Average Loss: 0.0158, Accuracy 8791 / 10000 (88%\n",
            ")\n",
            "Train Epoch: 5 [0/60000 (0%)]\t: 1.626031\n",
            "Train Epoch: 5 [2000/60000 (3%)]\t: 1.592001\n",
            "Train Epoch: 5 [4000/60000 (7%)]\t: 1.556380\n",
            "Train Epoch: 5 [6000/60000 (10%)]\t: 1.715917\n",
            "Train Epoch: 5 [8000/60000 (13%)]\t: 1.553470\n",
            "Train Epoch: 5 [10000/60000 (17%)]\t: 1.592154\n",
            "Train Epoch: 5 [12000/60000 (20%)]\t: 1.628397\n",
            "Train Epoch: 5 [14000/60000 (23%)]\t: 1.601519\n",
            "Train Epoch: 5 [16000/60000 (27%)]\t: 1.650683\n",
            "Train Epoch: 5 [18000/60000 (30%)]\t: 1.626947\n",
            "Train Epoch: 5 [20000/60000 (33%)]\t: 1.633842\n",
            "Train Epoch: 5 [22000/60000 (37%)]\t: 1.565709\n",
            "Train Epoch: 5 [24000/60000 (40%)]\t: 1.668889\n",
            "Train Epoch: 5 [26000/60000 (43%)]\t: 1.666030\n",
            "Train Epoch: 5 [28000/60000 (47%)]\t: 1.668242\n",
            "Train Epoch: 5 [30000/60000 (50%)]\t: 1.612535\n",
            "Train Epoch: 5 [32000/60000 (53%)]\t: 1.603691\n",
            "Train Epoch: 5 [34000/60000 (57%)]\t: 1.693406\n",
            "Train Epoch: 5 [36000/60000 (60%)]\t: 1.617300\n",
            "Train Epoch: 5 [38000/60000 (63%)]\t: 1.590747\n",
            "Train Epoch: 5 [40000/60000 (67%)]\t: 1.665363\n",
            "Train Epoch: 5 [42000/60000 (70%)]\t: 1.595318\n",
            "Train Epoch: 5 [44000/60000 (73%)]\t: 1.590069\n",
            "Train Epoch: 5 [46000/60000 (77%)]\t: 1.728284\n",
            "Train Epoch: 5 [48000/60000 (80%)]\t: 1.641968\n",
            "Train Epoch: 5 [50000/60000 (83%)]\t: 1.581301\n",
            "Train Epoch: 5 [52000/60000 (87%)]\t: 1.603693\n",
            "Train Epoch: 5 [54000/60000 (90%)]\t: 1.596544\n",
            "Train Epoch: 5 [56000/60000 (93%)]\t: 1.672487\n",
            "Train Epoch: 5 [58000/60000 (97%)]\t: 1.614579\n",
            "\n",
            "Test set: Average Loss: 0.0158, Accuracy 8829 / 10000 (88%\n",
            ")\n",
            "Train Epoch: 6 [0/60000 (0%)]\t: 1.663191\n",
            "Train Epoch: 6 [2000/60000 (3%)]\t: 1.619217\n",
            "Train Epoch: 6 [4000/60000 (7%)]\t: 1.598228\n",
            "Train Epoch: 6 [6000/60000 (10%)]\t: 1.576455\n",
            "Train Epoch: 6 [8000/60000 (13%)]\t: 1.647476\n",
            "Train Epoch: 6 [10000/60000 (17%)]\t: 1.581770\n",
            "Train Epoch: 6 [12000/60000 (20%)]\t: 1.586535\n",
            "Train Epoch: 6 [14000/60000 (23%)]\t: 1.643949\n",
            "Train Epoch: 6 [16000/60000 (27%)]\t: 1.598227\n",
            "Train Epoch: 6 [18000/60000 (30%)]\t: 1.617657\n",
            "Train Epoch: 6 [20000/60000 (33%)]\t: 1.592303\n",
            "Train Epoch: 6 [22000/60000 (37%)]\t: 1.574775\n",
            "Train Epoch: 6 [24000/60000 (40%)]\t: 1.617530\n",
            "Train Epoch: 6 [26000/60000 (43%)]\t: 1.642586\n",
            "Train Epoch: 6 [28000/60000 (47%)]\t: 1.663739\n",
            "Train Epoch: 6 [30000/60000 (50%)]\t: 1.603922\n",
            "Train Epoch: 6 [32000/60000 (53%)]\t: 1.640526\n",
            "Train Epoch: 6 [34000/60000 (57%)]\t: 1.591753\n",
            "Train Epoch: 6 [36000/60000 (60%)]\t: 1.623969\n",
            "Train Epoch: 6 [38000/60000 (63%)]\t: 1.576702\n",
            "Train Epoch: 6 [40000/60000 (67%)]\t: 1.591795\n",
            "Train Epoch: 6 [42000/60000 (70%)]\t: 1.603105\n",
            "Train Epoch: 6 [44000/60000 (73%)]\t: 1.612144\n",
            "Train Epoch: 6 [46000/60000 (77%)]\t: 1.636308\n",
            "Train Epoch: 6 [48000/60000 (80%)]\t: 1.580833\n",
            "Train Epoch: 6 [50000/60000 (83%)]\t: 1.618476\n",
            "Train Epoch: 6 [52000/60000 (87%)]\t: 1.635589\n",
            "Train Epoch: 6 [54000/60000 (90%)]\t: 1.724234\n",
            "Train Epoch: 6 [56000/60000 (93%)]\t: 1.621255\n",
            "Train Epoch: 6 [58000/60000 (97%)]\t: 1.593498\n",
            "\n",
            "Test set: Average Loss: 0.0158, Accuracy 8830 / 10000 (88%\n",
            ")\n",
            "Train Epoch: 7 [0/60000 (0%)]\t: 1.641794\n",
            "Train Epoch: 7 [2000/60000 (3%)]\t: 1.593219\n",
            "Train Epoch: 7 [4000/60000 (7%)]\t: 1.674571\n",
            "Train Epoch: 7 [6000/60000 (10%)]\t: 1.581891\n",
            "Train Epoch: 7 [8000/60000 (13%)]\t: 1.624396\n",
            "Train Epoch: 7 [10000/60000 (17%)]\t: 1.646248\n",
            "Train Epoch: 7 [12000/60000 (20%)]\t: 1.663316\n",
            "Train Epoch: 7 [14000/60000 (23%)]\t: 1.619115\n",
            "Train Epoch: 7 [16000/60000 (27%)]\t: 1.647370\n",
            "Train Epoch: 7 [18000/60000 (30%)]\t: 1.631267\n",
            "Train Epoch: 7 [20000/60000 (33%)]\t: 1.651071\n",
            "Train Epoch: 7 [22000/60000 (37%)]\t: 1.613551\n",
            "Train Epoch: 7 [24000/60000 (40%)]\t: 1.612726\n",
            "Train Epoch: 7 [26000/60000 (43%)]\t: 1.641101\n",
            "Train Epoch: 7 [28000/60000 (47%)]\t: 1.640677\n",
            "Train Epoch: 7 [30000/60000 (50%)]\t: 1.650673\n",
            "Train Epoch: 7 [32000/60000 (53%)]\t: 1.638489\n",
            "Train Epoch: 7 [34000/60000 (57%)]\t: 1.663969\n",
            "Train Epoch: 7 [36000/60000 (60%)]\t: 1.605394\n",
            "Train Epoch: 7 [38000/60000 (63%)]\t: 1.582022\n",
            "Train Epoch: 7 [40000/60000 (67%)]\t: 1.658844\n",
            "Train Epoch: 7 [42000/60000 (70%)]\t: 1.620082\n",
            "Train Epoch: 7 [44000/60000 (73%)]\t: 1.604573\n",
            "Train Epoch: 7 [46000/60000 (77%)]\t: 1.609012\n",
            "Train Epoch: 7 [48000/60000 (80%)]\t: 1.601114\n",
            "Train Epoch: 7 [50000/60000 (83%)]\t: 1.558657\n",
            "Train Epoch: 7 [52000/60000 (87%)]\t: 1.607977\n",
            "Train Epoch: 7 [54000/60000 (90%)]\t: 1.634160\n",
            "Train Epoch: 7 [56000/60000 (93%)]\t: 1.567643\n",
            "Train Epoch: 7 [58000/60000 (97%)]\t: 1.587420\n",
            "\n",
            "Test set: Average Loss: 0.0157, Accuracy 8864 / 10000 (89%\n",
            ")\n",
            "Train Epoch: 8 [0/60000 (0%)]\t: 1.614374\n",
            "Train Epoch: 8 [2000/60000 (3%)]\t: 1.625727\n",
            "Train Epoch: 8 [4000/60000 (7%)]\t: 1.656519\n",
            "Train Epoch: 8 [6000/60000 (10%)]\t: 1.591415\n",
            "Train Epoch: 8 [8000/60000 (13%)]\t: 1.607737\n",
            "Train Epoch: 8 [10000/60000 (17%)]\t: 1.652929\n",
            "Train Epoch: 8 [12000/60000 (20%)]\t: 1.546358\n",
            "Train Epoch: 8 [14000/60000 (23%)]\t: 1.589680\n",
            "Train Epoch: 8 [16000/60000 (27%)]\t: 1.617997\n",
            "Train Epoch: 8 [18000/60000 (30%)]\t: 1.605963\n",
            "Train Epoch: 8 [20000/60000 (33%)]\t: 1.621267\n",
            "Train Epoch: 8 [22000/60000 (37%)]\t: 1.635251\n",
            "Train Epoch: 8 [24000/60000 (40%)]\t: 1.595754\n",
            "Train Epoch: 8 [26000/60000 (43%)]\t: 1.637270\n",
            "Train Epoch: 8 [28000/60000 (47%)]\t: 1.626923\n",
            "Train Epoch: 8 [30000/60000 (50%)]\t: 1.651729\n",
            "Train Epoch: 8 [32000/60000 (53%)]\t: 1.610093\n",
            "Train Epoch: 8 [34000/60000 (57%)]\t: 1.628832\n",
            "Train Epoch: 8 [36000/60000 (60%)]\t: 1.671251\n",
            "Train Epoch: 8 [38000/60000 (63%)]\t: 1.625296\n",
            "Train Epoch: 8 [40000/60000 (67%)]\t: 1.591284\n",
            "Train Epoch: 8 [42000/60000 (70%)]\t: 1.584512\n",
            "Train Epoch: 8 [44000/60000 (73%)]\t: 1.612642\n",
            "Train Epoch: 8 [46000/60000 (77%)]\t: 1.646042\n",
            "Train Epoch: 8 [48000/60000 (80%)]\t: 1.619045\n",
            "Train Epoch: 8 [50000/60000 (83%)]\t: 1.579791\n",
            "Train Epoch: 8 [52000/60000 (87%)]\t: 1.622048\n",
            "Train Epoch: 8 [54000/60000 (90%)]\t: 1.560956\n",
            "Train Epoch: 8 [56000/60000 (93%)]\t: 1.622626\n",
            "Train Epoch: 8 [58000/60000 (97%)]\t: 1.571209\n",
            "\n",
            "Test set: Average Loss: 0.0158, Accuracy 8855 / 10000 (89%\n",
            ")\n",
            "Train Epoch: 9 [0/60000 (0%)]\t: 1.615819\n",
            "Train Epoch: 9 [2000/60000 (3%)]\t: 1.597855\n",
            "Train Epoch: 9 [4000/60000 (7%)]\t: 1.586084\n",
            "Train Epoch: 9 [6000/60000 (10%)]\t: 1.569175\n",
            "Train Epoch: 9 [8000/60000 (13%)]\t: 1.601533\n",
            "Train Epoch: 9 [10000/60000 (17%)]\t: 1.580761\n",
            "Train Epoch: 9 [12000/60000 (20%)]\t: 1.644957\n",
            "Train Epoch: 9 [14000/60000 (23%)]\t: 1.601941\n",
            "Train Epoch: 9 [16000/60000 (27%)]\t: 1.652734\n",
            "Train Epoch: 9 [18000/60000 (30%)]\t: 1.588505\n",
            "Train Epoch: 9 [20000/60000 (33%)]\t: 1.569336\n",
            "Train Epoch: 9 [22000/60000 (37%)]\t: 1.644870\n",
            "Train Epoch: 9 [24000/60000 (40%)]\t: 1.641557\n",
            "Train Epoch: 9 [26000/60000 (43%)]\t: 1.639389\n",
            "Train Epoch: 9 [28000/60000 (47%)]\t: 1.577937\n",
            "Train Epoch: 9 [30000/60000 (50%)]\t: 1.582765\n",
            "Train Epoch: 9 [32000/60000 (53%)]\t: 1.608072\n",
            "Train Epoch: 9 [34000/60000 (57%)]\t: 1.613454\n",
            "Train Epoch: 9 [36000/60000 (60%)]\t: 1.578850\n",
            "Train Epoch: 9 [38000/60000 (63%)]\t: 1.612855\n",
            "Train Epoch: 9 [40000/60000 (67%)]\t: 1.670286\n",
            "Train Epoch: 9 [42000/60000 (70%)]\t: 1.634187\n",
            "Train Epoch: 9 [44000/60000 (73%)]\t: 1.605630\n",
            "Train Epoch: 9 [46000/60000 (77%)]\t: 1.618045\n",
            "Train Epoch: 9 [48000/60000 (80%)]\t: 1.606576\n",
            "Train Epoch: 9 [50000/60000 (83%)]\t: 1.646270\n",
            "Train Epoch: 9 [52000/60000 (87%)]\t: 1.622428\n",
            "Train Epoch: 9 [54000/60000 (90%)]\t: 1.599891\n",
            "Train Epoch: 9 [56000/60000 (93%)]\t: 1.572316\n",
            "Train Epoch: 9 [58000/60000 (97%)]\t: 1.600383\n",
            "\n",
            "Test set: Average Loss: 0.0157, Accuracy 8872 / 10000 (89%\n",
            ")\n",
            "Train Epoch: 10 [0/60000 (0%)]\t: 1.571020\n",
            "Train Epoch: 10 [2000/60000 (3%)]\t: 1.580184\n",
            "Train Epoch: 10 [4000/60000 (7%)]\t: 1.562084\n",
            "Train Epoch: 10 [6000/60000 (10%)]\t: 1.621809\n",
            "Train Epoch: 10 [8000/60000 (13%)]\t: 1.601751\n",
            "Train Epoch: 10 [10000/60000 (17%)]\t: 1.618270\n",
            "Train Epoch: 10 [12000/60000 (20%)]\t: 1.609251\n",
            "Train Epoch: 10 [14000/60000 (23%)]\t: 1.542857\n",
            "Train Epoch: 10 [16000/60000 (27%)]\t: 1.586195\n",
            "Train Epoch: 10 [18000/60000 (30%)]\t: 1.632223\n",
            "Train Epoch: 10 [20000/60000 (33%)]\t: 1.655806\n",
            "Train Epoch: 10 [22000/60000 (37%)]\t: 1.648593\n",
            "Train Epoch: 10 [24000/60000 (40%)]\t: 1.546998\n",
            "Train Epoch: 10 [26000/60000 (43%)]\t: 1.644094\n",
            "Train Epoch: 10 [28000/60000 (47%)]\t: 1.620896\n",
            "Train Epoch: 10 [30000/60000 (50%)]\t: 1.545011\n",
            "Train Epoch: 10 [32000/60000 (53%)]\t: 1.624049\n",
            "Train Epoch: 10 [34000/60000 (57%)]\t: 1.608535\n",
            "Train Epoch: 10 [36000/60000 (60%)]\t: 1.608220\n",
            "Train Epoch: 10 [38000/60000 (63%)]\t: 1.629894\n",
            "Train Epoch: 10 [40000/60000 (67%)]\t: 1.586382\n",
            "Train Epoch: 10 [42000/60000 (70%)]\t: 1.607164\n",
            "Train Epoch: 10 [44000/60000 (73%)]\t: 1.580978\n",
            "Train Epoch: 10 [46000/60000 (77%)]\t: 1.631545\n",
            "Train Epoch: 10 [48000/60000 (80%)]\t: 1.669283\n",
            "Train Epoch: 10 [50000/60000 (83%)]\t: 1.585158\n",
            "Train Epoch: 10 [52000/60000 (87%)]\t: 1.576761\n",
            "Train Epoch: 10 [54000/60000 (90%)]\t: 1.585191\n",
            "Train Epoch: 10 [56000/60000 (93%)]\t: 1.611202\n",
            "Train Epoch: 10 [58000/60000 (97%)]\t: 1.650301\n",
            "\n",
            "Test set: Average Loss: 0.0157, Accuracy 8893 / 10000 (89%\n",
            ")\n"
          ]
        }
      ]
    },
    {
      "cell_type": "code",
      "source": [
        "device"
      ],
      "metadata": {
        "colab": {
          "base_uri": "https://localhost:8080/"
        },
        "id": "E-ATRCgitEu0",
        "outputId": "a2f09549-6591-4a46-a55d-0c7952fbdc42"
      },
      "execution_count": 67,
      "outputs": [
        {
          "output_type": "execute_result",
          "data": {
            "text/plain": [
              "device(type='cpu')"
            ]
          },
          "metadata": {},
          "execution_count": 67
        }
      ]
    },
    {
      "cell_type": "code",
      "source": [
        "import matplotlib.pyplot as plt\n",
        "\n",
        "model.eval()\n",
        "\n",
        "data, target = test_data[100]\n",
        "\n",
        "data = data.unsqueeze(0).to(device)\n",
        "\n",
        "output = model(data)\n",
        "\n",
        "pred = output.argmax(dim = 1, keepdim=True).item()\n",
        "\n",
        "print(f'Predicition: {pred}')\n",
        "\n",
        "image = data.squeeze(0).squeeze(0).cpu().numpy()\n",
        "\n",
        "plt.imshow(image, cmap = 'gray')\n",
        "plt.show()\n",
        "\n",
        "print(pred)"
      ],
      "metadata": {
        "colab": {
          "base_uri": "https://localhost:8080/",
          "height": 516
        },
        "id": "GcRrR_artHQA",
        "outputId": "c81389fe-68b4-442c-9e3b-1e3c4ab064ab"
      },
      "execution_count": 70,
      "outputs": [
        {
          "output_type": "stream",
          "name": "stderr",
          "text": [
            "<ipython-input-56-c1a8a0587757>:24: UserWarning: Implicit dimension choice for softmax has been deprecated. Change the call to include dim=X as an argument.\n",
            "  return F.softmax(x)\n"
          ]
        },
        {
          "output_type": "stream",
          "name": "stdout",
          "text": [
            "Predicition: 6\n"
          ]
        },
        {
          "output_type": "display_data",
          "data": {
            "text/plain": [
              "<Figure size 640x480 with 1 Axes>"
            ],
            "image/png": "[encoded data removed]"
          },
          "metadata": {}
        },
        {
          "output_type": "stream",
          "name": "stdout",
          "text": [
            "6\n"
          ]
        }
      ]
    }
  ]
}